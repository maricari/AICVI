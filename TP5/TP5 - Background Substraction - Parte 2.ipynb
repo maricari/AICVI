{
 "cells": [
  {
   "cell_type": "markdown",
   "metadata": {},
   "source": [
    "## Background substraction\n",
    "\n",
    "### Objetivo del TP\n",
    "- Implementar el detector de fondo naive usando la mediana como estimador. El algoritmo debe recibir el parámetro N (cantidad de frames utilizados para la estimación) y el intervalo de tiempo para recalcular el fondo\n",
    "- Se deben generar las mascaras de foreground y aplicarlas a los frames para segmentar los objetos en movimiento\n",
    "- Comparar con alguno de los métodos vistos en la practica basados en mezcla de gaussianas"
   ]
  },
  {
   "cell_type": "markdown",
   "metadata": {},
   "source": [
    "#### Objetivo de la notebook\n",
    "- Comparar el algoritmo implementado con otros métodos"
   ]
  },
  {
   "cell_type": "code",
   "execution_count": 1,
   "metadata": {},
   "outputs": [],
   "source": [
    "import time\n",
    "import background_substraction_util as util"
   ]
  },
  {
   "cell_type": "code",
   "execution_count": 2,
   "metadata": {},
   "outputs": [],
   "source": [
    "filename = 'videos/vtest.avi'\n",
    "# filename = 'videos/slow_traffic_small.mp4'\n",
    "# filename = 'videos/demo.mov'"
   ]
  },
  {
   "cell_type": "markdown",
   "metadata": {},
   "source": [
    "### Visualiza en simultáneo la salida de distintos algoritmos"
   ]
  },
  {
   "cell_type": "code",
   "execution_count": 3,
   "metadata": {},
   "outputs": [],
   "source": [
    "# para el método Naive usa un background basado en 5 frames, que se actualiza cada segundo.\n",
    "util.compare_track(filename, N=5, interval=1)"
   ]
  },
  {
   "cell_type": "markdown",
   "metadata": {},
   "source": [
    "### Compara los tiempos de ejecución de diferentes algoritmos "
   ]
  },
  {
   "cell_type": "code",
   "execution_count": 4,
   "metadata": {},
   "outputs": [
    {
     "name": "stdout",
     "output_type": "stream",
     "text": [
      "Naive ...\n",
      "MOG2 ...\n",
      "KNN ...\n",
      "\n",
      "Tiempos de ejecución para videos/vtest.avi\n",
      "Naive: 20.54 segundos\n",
      "MOG2: 20.02 segundos\n",
      "KNN: 21.88 segundos\n"
     ]
    }
   ],
   "source": [
    "metodos = {\n",
    "    util.BS_NAIVE: \"Naive\",\n",
    "    util.BS_MOG2: \"MOG2\",\n",
    "    util.BS_KNN: \"KNN\"\n",
    "     }\n",
    "\n",
    "resultados = dict()\n",
    "\n",
    "for metodo, nombre in metodos.items():\n",
    "    print(f'{nombre} ...')\n",
    "    inicio = time.time()\n",
    "    util.main_track(filename, metodo, N=5, interval=1)\n",
    "    fin = time.time()\n",
    "    resultados[nombre] = fin-inicio\n",
    "\n",
    "print(f'\\nTiempos de ejecución para {filename}')\n",
    "for metodo, tiempo in resultados.items():\n",
    "     print(f'{metodo}: {resultados[metodo]:.4} segundos')\n"
   ]
  },
  {
   "cell_type": "markdown",
   "metadata": {},
   "source": [
    "### Conclusiones\n",
    "\n",
    "- En relación a los tiempos, el método Naive está a la par de los otros métodos con los que se realizó la comparación.\n",
    "- En cuanto a los resultados obtenidos por este método, se puede ver menos ruido que en los otros, pero falta más definición en las figuras detectadas por la máscara.\n"
   ]
  },
  {
   "cell_type": "code",
   "execution_count": null,
   "metadata": {},
   "outputs": [],
   "source": []
  }
 ],
 "metadata": {
  "kernelspec": {
   "display_name": "Python 3 (ipykernel)",
   "language": "python",
   "name": "python3"
  },
  "language_info": {
   "codemirror_mode": {
    "name": "ipython",
    "version": 3
   },
   "file_extension": ".py",
   "mimetype": "text/x-python",
   "name": "python",
   "nbconvert_exporter": "python",
   "pygments_lexer": "ipython3",
   "version": "3.10.4"
  }
 },
 "nbformat": 4,
 "nbformat_minor": 4
}
